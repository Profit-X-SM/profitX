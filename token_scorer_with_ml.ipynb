{
 "cells": [
  {
   "cell_type": "code",
   "execution_count": null,
   "id": "0ea73ef5",
   "metadata": {},
   "outputs": [],
   "source": [
    "# Final Token Scoring Engine (Python)\n",
    "# ------------------------------------------------\n",
    "# This script scores Ethereum-based tokens using a combination of\n",
    "# on-chain, off-chain, and social metrics.\n",
    "# ------------------------------------------------\n",
    "#!pip install web3\n",
    "\n",
    "import requests\n",
    "from web3 import Web3\n",
    "import json\n"
   ]
  },
  {
   "cell_type": "code",
   "execution_count": null,
   "metadata": {},
   "outputs": [
    {
     "name": "stdout",
     "output_type": "stream",
     "text": [
      "Requirement already satisfied: scikit-learn in c:\\users\\joelc\\anaconda3\\lib\\site-packages (1.3.0)\n",
      "Requirement already satisfied: numpy>=1.17.3 in c:\\users\\joelc\\anaconda3\\lib\\site-packages (from scikit-learn) (1.24.3)\n",
      "Requirement already satisfied: scipy>=1.5.0 in c:\\users\\joelc\\anaconda3\\lib\\site-packages (from scikit-learn) (1.10.1)\n",
      "Requirement already satisfied: joblib>=1.1.1 in c:\\users\\joelc\\anaconda3\\lib\\site-packages (from scikit-learn) (1.2.0)\n",
      "Requirement already satisfied: threadpoolctl>=2.0.0 in c:\\users\\joelc\\anaconda3\\lib\\site-packages (from scikit-learn) (2.2.0)\n"
     ]
    }
   ],
   "source": [
    "#!pip install scikit-learn"
   ]
  },
  {
   "cell_type": "code",
   "execution_count": null,
   "id": "7fd627ee",
   "metadata": {},
   "outputs": [],
   "source": [
    "\n",
    "# ------------------ ML IMPORTS ------------------ #\n",
    "from sklearn.linear_model import LinearRegression\n",
    "import numpy as np\n"
   ]
  },
  {
   "cell_type": "code",
   "execution_count": null,
   "id": "0360bb98",
   "metadata": {},
   "outputs": [],
   "source": [
    "# ------------------ CONFIG ------------------ #\n",
    "INFURA_URL = \"https://mainnet.infura.io/v3/4541a90c12644bad8a3f5ef811f79204\"\n",
    "ETHERSCAN_API_KEY = \"YIV1RV1ZF983R4HC7PF5FBTYFHIHWQQT9V\"\n",
    "DUNE_API_KEY = \"zHqyJwJnGmoIn1qNCZ82qZ5XiNKN6iYw\""
   ]
  },
  {
   "cell_type": "code",
   "execution_count": null,
   "id": "86cba3d5",
   "metadata": {},
   "outputs": [],
   "source": [
    "# Connect to Ethereum node\n",
    "web3 = Web3(Web3.HTTPProvider(INFURA_URL))\n",
    "print(\"Connected to Ethereum:\", web3.isConnected())"
   ]
  },
  {
   "cell_type": "code",
   "execution_count": null,
   "id": "9fa0ea42",
   "metadata": {},
   "outputs": [],
   "source": [
    "# ------------------ UTILS ------------------ #\n",
    "def get_token_info(address):\n",
    "    \"\"\"Get basic token info using ERC20 ABI.\"\"\"\n",
    "    erc20_abi = [\n",
    "        {\"constant\": True, \"inputs\": [], \"name\": \"name\", \"outputs\": [{\"name\": \"\", \"type\": \"string\"}], \"type\": \"function\"},\n",
    "        {\"constant\": True, \"inputs\": [], \"name\": \"symbol\", \"outputs\": [{\"name\": \"\", \"type\": \"string\"}], \"type\": \"function\"},\n",
    "        {\"constant\": True, \"inputs\": [], \"name\": \"totalSupply\", \"outputs\": [{\"name\": \"\", \"type\": \"uint256\"}], \"type\": \"function\"}\n",
    "    ]\n",
    "    contract = web3.eth.contract(address=web3.toChecksumAddress(address), abi=erc20_abi)\n",
    "    name = contract.functions.name().call()\n",
    "    symbol = contract.functions.symbol().call()\n",
    "    supply = contract.functions.totalSupply().call()\n",
    "    return name, symbol, supply\n"
   ]
  },
  {
   "cell_type": "code",
   "execution_count": null,
   "id": "abb7ce13",
   "metadata": {},
   "outputs": [],
   "source": [
    "# ------------------ ETHERSCAN ------------------ #\n",
    "def get_top_holders(token_address):\n",
    "    \"\"\"Fetch top holders (requires custom analysis or paid services, simplified here).\"\"\"\n",
    "    # You could use TokenSniffer or manual scraping in free versions\n",
    "    return 0.3  # Placeholder: e.g., 30% held by top 5 holders\n",
    "\n",
    "def is_contract_verified(token_address):\n",
    "    url = f\"https://api.etherscan.io/api?module=contract&action=getabi&address={token_address}&apikey={ETHERSCAN_API_KEY}\"\n",
    "    r = requests.get(url).json()\n",
    "    return r['status'] == '1'\n"
   ]
  },
  {
   "cell_type": "code",
   "execution_count": null,
   "id": "38991732",
   "metadata": {},
   "outputs": [],
   "source": [
    "\n",
    "# ------------------ ML TRAINING ------------------ #\n",
    "# Example training dataset: [wallet_growth, verified (0/1), top_holder_ratio, liquidity]\n",
    "X_train = np.array([\n",
    "    [800, 1, 0.3, 50000],\n",
    "    [1000, 1, 0.2, 150000],\n",
    "    [500, 0, 0.5, 10000],\n",
    "    [1500, 1, 0.1, 200000]\n",
    "])\n",
    "# Target success scores (e.g., price % growth or internal score)\n",
    "y_train = np.array([30, 60, 10, 90])\n",
    "\n",
    "# Train linear regression model\n",
    "ml_model = LinearRegression()\n",
    "ml_model.fit(X_train, y_train)\n"
   ]
  },
  {
   "cell_type": "code",
   "execution_count": null,
   "id": "8c9c4a59",
   "metadata": {},
   "outputs": [],
   "source": [
    "# ------------------ DUNE API ------------------ #\n",
    "def get_wallet_growth_dune(dune_query_id):\n",
    "    \"\"\"Fetch wallet growth data from Dune query.\"\"\"\n",
    "    url = f\"https://api.dune.com/api/v1/query/{dune_query_id}/results\"\n",
    "    headers = {\"x-dune-api-key\": DUNE_API_KEY}\n",
    "    r = requests.get(url, headers=headers)\n",
    "    if r.status_code == 200:\n",
    "        data = r.json()\n",
    "        # Parse your wallet growth logic\n",
    "        return 800  # Placeholder: 800 new wallets in 7d\n",
    "    else:\n",
    "        return 0\n"
   ]
  },
  {
   "cell_type": "code",
   "execution_count": null,
   "id": "870b9610",
   "metadata": {},
   "outputs": [],
   "source": [
    "\n",
    "# ------------------ MAIN ------------------ #\n",
    "if __name__ == \"__main__\":\n",
    "    user_address = input(\"Enter the token address (0x...): \").strip()\n",
    "    token_name = input(\"Enter the token name (e.g., Shiba Inu): \").strip()\n",
    "    model_choice = input(\"Use Machine Learning model? (yes/no): \").strip().lower()\n",
    "\n",
    "    name, symbol, supply = get_token_info(user_address)\n",
    "    print(f\"Analyzing Token: {name} ({symbol}) - Total Supply: {supply}\")\n",
    "\n",
    "    if model_choice == \"yes\":\n",
    "        score_token_with_ml(user_address, token_name)\n",
    "    else:\n",
    "        score_token(user_address, token_name)\n"
   ]
  },
  {
   "cell_type": "code",
   "execution_count": null,
   "id": "3f1d9646",
   "metadata": {},
   "outputs": [],
   "source": [
    "# ------------------ UNISWAP SUBGRAPH ------------------ #\n",
    "def get_liquidity_from_uniswap(token_address):\n",
    "    \"\"\"Pull liquidity data from Uniswap Subgraph.\"\"\"\n",
    "    query = {\n",
    "        \"query\": \"\"\"\n",
    "        {\n",
    "          token(id: \"%s\") {\n",
    "            derivedETH\n",
    "            totalLiquidity\n",
    "          }\n",
    "        }\n",
    "        \"\"\" % token_address.lower()\n",
    "    }\n",
    "    try:\n",
    "        response = requests.post(\n",
    "            \"https://api.thegraph.com/subgraphs/name/uniswap/uniswap-v2\",\n",
    "            json=query,\n",
    "            headers={'Content-Type': 'application/json'}\n",
    "        )\n",
    "        \n",
    "        if response.status_code == 200:\n",
    "            data = response.json()\n",
    "            if 'data' in data and 'token' in data['data'] and data['data']['token'] is not None:\n",
    "                return float(data['data']['token']['totalLiquidity'])\n",
    "            else:\n",
    "                print(f\"Token {token_address} not found on Uniswap V2\")\n",
    "                return 0\n",
    "        else:\n",
    "            print(f\"Error fetching Uniswap data: {response.status_code}\")\n",
    "            return 0\n",
    "    except Exception as e:\n",
    "        print(f\"Exception while fetching Uniswap data: {str(e)}\")\n",
    "        return 0"
   ]
  },
  {
   "cell_type": "code",
   "execution_count": null,
   "id": "d69a4c72",
   "metadata": {},
   "outputs": [],
   "source": [
    "# ------------------ SCORING ------------------ #\n",
    "def score_token(token_address):\n",
    "    score = 0\n",
    "\n",
    "    # On-chain Momentum\n",
    "    wallet_growth = get_wallet_growth_dune(\"DUNE_QUERY_ID\")\n",
    "    on_chain_score = min(wallet_growth / 1000, 1.0) * 10\n",
    "\n",
    "    # Contract Verified\n",
    "    verified = is_contract_verified(token_address)\n",
    "    credibility_score = 2 if verified else 0\n",
    "\n",
    "    # Top Holder Ratio (lower is better)\n",
    "    top_holders_ratio = get_top_holders(token_address)\n",
    "    tokenomics_score = (1 - top_holders_ratio) * 5\n",
    "\n",
    "    # Liquidity from Uniswap\n",
    "    liquidity = get_liquidity_from_uniswap(token_address)\n",
    "    liquidity_score = min(liquidity / 100000, 1.0) * 10\n",
    "\n",
    "    score = on_chain_score + credibility_score + tokenomics_score + liquidity_score\n",
    "\n",
    "    print(\"\\n--- Token Score Breakdown ---\")\n",
    "    print(\"Wallet Growth Score:\", round(on_chain_score, 2))\n",
    "    print(\"Credibility Score:\", round(credibility_score, 2))\n",
    "    print(\"Holder Concentration Score:\", round(tokenomics_score, 2))\n",
    "    print(\"Liquidity Score:\", round(liquidity_score, 2))\n",
    "    print(\"Total Score:\", round(score, 2), \"/ 100\")\n"
   ]
  },
  {
   "cell_type": "code",
   "execution_count": null,
   "id": "982d733c",
   "metadata": {},
   "outputs": [],
   "source": [
    "# ------------------ MAIN ------------------ #\n",
    "if __name__ == \"__main__\":\n",
    "    user_input = input(\"Enter the token address (0x...): \")\n",
    "    token_address = user_input.strip()\n",
    "    name, symbol, supply = get_token_info(token_address)\n",
    "    print(f\"Analyzing Token: {name} ({symbol}) - Total Supply: {supply}\")\n",
    "    score_token(token_address)\n"
   ]
  },
  {
   "cell_type": "code",
   "execution_count": null,
   "id": "b457021f",
   "metadata": {},
   "outputs": [],
   "source": []
  },
  {
   "cell_type": "code",
   "execution_count": null,
   "id": "b02137f4",
   "metadata": {},
   "outputs": [],
   "source": []
  },
  {
   "cell_type": "code",
   "execution_count": null,
   "id": "1ac5cbba",
   "metadata": {},
   "outputs": [],
   "source": []
  }
 ],
 "metadata": {
  "kernelspec": {
   "display_name": "base",
   "language": "python",
   "name": "python3"
  },
  "language_info": {
   "codemirror_mode": {
    "name": "ipython",
    "version": 3
   },
   "file_extension": ".py",
   "mimetype": "text/x-python",
   "name": "python",
   "nbconvert_exporter": "python",
   "pygments_lexer": "ipython3",
   "version": "3.11.4"
  }
 },
 "nbformat": 4,
 "nbformat_minor": 2
}
